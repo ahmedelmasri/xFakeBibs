{
 "cells": [
  {
   "cell_type": "code",
   "execution_count": 89,
   "id": "ee5f81f7-c915-4754-9a11-e4042245f152",
   "metadata": {},
   "outputs": [],
   "source": [
    "### import statements \n",
    "import obonet\n",
    "from itertools import combinations \n",
    "from Bio import Medline\n",
    "import networkx as nx\n",
    "import string\n",
    "from textblob import TextBlob  \n",
    "\n",
    "import nltk\n",
    "import re\n",
    "from sklearn.feature_extraction.text import CountVectorizer, TfidfVectorizer\n",
    "from nltk.corpus import stopwords\n",
    "from nltk.tokenize import word_tokenize\n",
    "import pandas as pd\n",
    "\n",
    "import seaborn as sns\n",
    "import matplotlib.pyplot as plt\n",
    "from networkx.algorithms import tree"
   ]
  },
  {
   "cell_type": "code",
   "execution_count": 22,
   "id": "63974b6d-8293-4445-ab3a-439a2609ac4b",
   "metadata": {},
   "outputs": [],
   "source": [
    "# experiment configurations\n",
    "MAX_NUMBER_BIGRAMS = 30\n",
    "MAX_NUMBER_PUBLICATION = 1200"
   ]
  },
  {
   "cell_type": "code",
   "execution_count": 23,
   "id": "8ce8bc1a-8191-4147-8c82-f02f98486f0e",
   "metadata": {},
   "outputs": [],
   "source": [
    "# parsing a medline file \n",
    "def parse_medline_rmap(medline_file):    \n",
    "    map_abstracts = {}    \n",
    "    pmid = ''\n",
    "    abstract = ''  \n",
    "    with open(medline_file) as medline_handle:\n",
    "        records = Medline.parse(medline_handle)\n",
    "        for record in records:         \n",
    "            keys = record.keys()            \n",
    "            if 'PMID' in keys and 'AB' in keys: \n",
    "\n",
    "                pmid = record['PMID']\n",
    "                abstract = record['AB']\n",
    "                \n",
    "                map_abstracts[pmid] = abstract.lower()\n",
    "    return map_abstracts  "
   ]
  },
  {
   "cell_type": "code",
   "execution_count": 24,
   "id": "85f0e020-a6bb-4b94-b88d-b7500d99de9d",
   "metadata": {},
   "outputs": [],
   "source": [
    "def parse_chatGPT(chatGPTabstracts):\n",
    "    count = 0\n",
    "    map_abs = {}  \n",
    "    read_handle = open(chatGPTabstracts)\n",
    "    lines = read_handle.readlines()\n",
    "    for line in lines:\n",
    "        if len(line) > 1 and line.startswith('Abstract'):\n",
    "            map_abs[count] = line\n",
    "            count += 1\n",
    "            # print(line[:100])\n",
    "    return map_abs"
   ]
  },
  {
   "cell_type": "code",
   "execution_count": 25,
   "id": "13080a90-1415-4f9e-ae19-a183512273b3",
   "metadata": {},
   "outputs": [],
   "source": [
    "def remove_string_special_characters(s):\n",
    "      \n",
    "    # removes special characters with ' '\n",
    "    stripped = re.sub('[^a-zA-z\\s]', '', s)\n",
    "    stripped = re.sub('_', '', stripped)\n",
    "      \n",
    "    # Change any white space to one space\n",
    "    stripped = re.sub('\\s+', ' ', stripped)\n",
    "      \n",
    "    # Remove start and end white spaces\n",
    "    stripped = stripped.strip()\n",
    "    if stripped != '':\n",
    "            return stripped.lower()"
   ]
  },
  {
   "cell_type": "code",
   "execution_count": 26,
   "id": "e603b3a6-895e-4887-9d4f-611ce9a333bc",
   "metadata": {},
   "outputs": [],
   "source": [
    "pubmed_abstracts = parse_medline_rmap('pubmed-alzheimers-set.txt')\n",
    "cgpt_abstracts = parse_chatGPT('chaptGPTpubs.txt')\n",
    "\n",
    "# cleaning PubMed articles from special characters\n",
    "clean_pubmed_training = []\n",
    "for abst in list(pubmed_abstracts.values())[0:]:\n",
    "    cleaned = remove_string_special_characters(abst)    \n",
    "    clean_pubmed_training.append(cleaned)\n",
    "    \n",
    "# cleaning chatGPT articles from special characters\n",
    "clean_chatGPT = []\n",
    "for abst in list(cgpt_abstracts.values())[0:]:\n",
    "    cleaned = remove_string_special_characters(abst)    \n",
    "    clean_chatGPT.append(cleaned)    \n",
    "    "
   ]
  },
  {
   "cell_type": "code",
   "execution_count": 27,
   "id": "7cd597f6-5b64-465a-940a-22512d16f60f",
   "metadata": {},
   "outputs": [],
   "source": [
    "stop_words = set(stopwords.words('english'))\n",
    "special_list = ['abstract']\n",
    "\n",
    "def stopwords_rem_pubmed(clean_pubmed_training):\n",
    "    stopped_pubmed_training = []\n",
    "    for abst in clean_pubmed_training[:MAX_NUMBER_PUBLICATION]:\n",
    "        valid_l = []\n",
    "        valid_rec = []\n",
    "        blob_object = TextBlob(abst)\n",
    "        list_tokens = blob_object.words\n",
    "\n",
    "        for token in list_tokens:        \n",
    "            if token not in stop_words:\n",
    "                valid_l.append(token)            \n",
    "        valid_rec = ' '.join(valid_l)\n",
    "        stopped_pubmed_training.append(valid_rec)\n",
    "    return stopped_pubmed_training\n",
    "    \n",
    "    \n",
    "def stopwords_rem_chatGPT_dataset(clean_chatGPT):    \n",
    "    stopped_chatGPT_training = []\n",
    "    for abst in clean_chatGPT_training[:MAX_NUMBER_PUBLICATION]:\n",
    "        valid_l = []\n",
    "        valid_rec = []\n",
    "        blob_object = TextBlob(abst)\n",
    "        list_tokens = blob_object.words\n",
    "\n",
    "        for token in list_tokens:        \n",
    "            if (token not in stop_words) and (token not in special_list):\n",
    "                valid_l.append(token)            \n",
    "        valid_rec = ' '.join(valid_l)\n",
    "        stopped_chatGPT_training.append(valid_rec)   \n",
    "    return stopped_chatGPT_training\n",
    "\n",
    "\n",
    "def stopwords_rem_chatGPT_article(clean_chatGPT_article):    \n",
    "    stopped_chatGPT_training = []\n",
    "    # for abst in clean_chatGPT_training[:MAX_NUMBER_PUBLICATION]:\n",
    "    valid_l = []\n",
    "    valid_rec = []\n",
    "    blob_object = TextBlob(clean_chatGPT_article)\n",
    "    list_tokens = blob_object.words\n",
    "\n",
    "    for token in list_tokens:        \n",
    "        if (token not in stop_words) and (token not in special_list):\n",
    "            valid_l.append(token)            \n",
    "    valid_rec = ' '.join(valid_l)\n",
    "    stopped_chatGPT_training.append(valid_rec)   \n",
    "    return stopped_chatGPT_training"
   ]
  },
  {
   "cell_type": "code",
   "execution_count": 53,
   "id": "756e0025-68d5-4820-afbb-3c220042d935",
   "metadata": {},
   "outputs": [],
   "source": [
    "stopped_pubmed_training = stopwords_rem_pubmed(clean_pubmed_training)\n",
    "\n",
    "stopped_chatGPT_test = []\n",
    "for article in clean_chatGPT:\n",
    "\n",
    "    stopped_chatGPT_test.append(stopwords_rem_chatGPT_article(article))\n",
    "\n",
    "\n"
   ]
  },
  {
   "cell_type": "code",
   "execution_count": 54,
   "id": "76959192-d17b-4cd5-8995-0a451d35fee8",
   "metadata": {},
   "outputs": [],
   "source": [
    "# for art in stopped_pubmed_training[100:200]:\n",
    "#     print(art)\n",
    "#     print('------')\n",
    "\n",
    "# print('=========')    \n",
    "# for art in stopped_chatGPT_test[:3]:\n",
    "#     print(art)\n",
    "#     print('------')    \n"
   ]
  },
  {
   "cell_type": "code",
   "execution_count": 55,
   "id": "d5ffe92e-af59-4d04-b6c3-9c318836e187",
   "metadata": {},
   "outputs": [],
   "source": [
    "# Getting PubMed bigrams\n",
    "def compute_pubmed_bigrams(stopped_pubmed_training):\n",
    "    list_bigrams = []\n",
    "\n",
    "    vectorizer = CountVectorizer(ngram_range =(2, 2))\n",
    "    X1 = vectorizer.fit_transform(stopped_pubmed_training)\n",
    "    features = (vectorizer.get_feature_names_out())\n",
    "    # print(\"\\n\\nX1 : \\n\", X1.toarray())\n",
    "\n",
    "    # Applying TFIDF\n",
    "    # You can still get n-grams here\n",
    "    vectorizer = TfidfVectorizer(ngram_range = (2, 2))\n",
    "    X2 = vectorizer.fit_transform(stopped_pubmed_training)\n",
    "    scores = (X2.toarray())\n",
    "    # print(\"\\n\\nScores : \\n\", scores)\n",
    "\n",
    "    # Getting top ranking features\n",
    "    sums = X2.sum(axis = 0)\n",
    "    data1 = []\n",
    "    for col, term in enumerate(features):\n",
    "        data1.append( (term, sums[0, col] ))\n",
    "    ranking = pd.DataFrame(data1, columns = ['term', 'rank'])\n",
    "    words = (ranking.sort_values('rank', ascending = False))\n",
    "\n",
    "    bigram_ranks = {}\n",
    "    for index, row in words.iterrows():\n",
    "        # print(row['term'],'\\t\\t\\t',  row['rank'])\n",
    "\n",
    "        splits = row['term'].split()\n",
    "        bigram_ranks[row['rank']] = (splits[0], splits[1])\n",
    "\n",
    "    count = 0    \n",
    "    for k, v in bigram_ranks.items():\n",
    "        if count < MAX_NUMBER_BIGRAMS:\n",
    "            # print(k,'\\t',  v)\n",
    "            count += 1\n",
    "        list_bigrams.append(v)\n",
    "    return bigram_ranks"
   ]
  },
  {
   "cell_type": "code",
   "execution_count": 56,
   "id": "7f22f5e9-8dab-4b48-a612-13a95abd67e8",
   "metadata": {},
   "outputs": [],
   "source": [
    "# Getting chatGPT bigrams\n",
    "def compute_chatGPT_bigrams(stopped_chatGPT_test):\n",
    "    list_bigrams = []\n",
    "\n",
    "    vectorizer = CountVectorizer(ngram_range =(2, 2))\n",
    "    X1 = vectorizer.fit_transform(stopped_chatGPT_test)\n",
    "    features = (vectorizer.get_feature_names_out())\n",
    "\n",
    "    # Applying TFIDF\n",
    "    # You can still get n-grams here\n",
    "    vectorizer = TfidfVectorizer(ngram_range = (2, 2))\n",
    "    X2 = vectorizer.fit_transform(stopped_chatGPT_test)\n",
    "    scores = (X2.toarray())\n",
    "    # print(\"\\n\\nScores : \\n\", scores)\n",
    "\n",
    "    # Getting top ranking features\n",
    "    sums = X2.sum(axis = 0)\n",
    "    data1 = []\n",
    "    for col, term in enumerate(features):\n",
    "        data1.append( (term, sums[0, col] ))\n",
    "    ranking = pd.DataFrame(data1, columns = ['term', 'rank'])\n",
    "    words = (ranking.sort_values('rank', ascending = False))\n",
    "\n",
    "    bigram_ranks = {}\n",
    "    for index, row in words.iterrows():\n",
    "        splits = row['term'].split()\n",
    "        bigram_ranks[row['rank']] = (splits[0], splits[1])\n",
    "\n",
    "    count = 0    \n",
    "    for k, v in bigram_ranks.items():\n",
    "        if count < MAX_NUMBER_BIGRAMS:\n",
    "            count += 1\n",
    "        list_bigrams.append(v)\n",
    "    return bigram_ranks "
   ]
  },
  {
   "cell_type": "code",
   "execution_count": 57,
   "id": "ded8c1c2-3712-48c4-803c-7f828e9b62eb",
   "metadata": {},
   "outputs": [
    {
     "name": "stdout",
     "output_type": "stream",
     "text": [
      "Original node count:  702\n",
      "Original edge count:  887\n",
      "ChatGPT size the giant component: 513\n"
     ]
    }
   ],
   "source": [
    "pubmed_bigrams_map_training = compute_pubmed_bigrams(stopped_pubmed_training[:100])\n",
    "# print(len(pubmed_bigrams_map_training))\n",
    "\n",
    "training_list = pubmed_bigrams_map_training.values()\n",
    "\n",
    "\n",
    "# ----------   Constructing  Training  Model ----------# \n",
    "\n",
    "graph_training_model = nx.Graph()\n",
    "graph_training_model.add_edges_from(training_list)\n",
    "\n",
    "node_count = len(graph_training_model.nodes())\n",
    "edge_count = len(graph_training_model.edges())\n",
    "print('Original node count: ', node_count)\n",
    "print('Original edge count: ', edge_count)\n",
    "\n",
    "giant = max(nx.connected_components(graph_training_model), key=len)\n",
    "CC = len(giant)\n",
    "print(\"Training size the giant component:\", CC)"
   ]
  },
  {
   "cell_type": "code",
   "execution_count": 73,
   "id": "18ccf95c-3c6d-4aac-ac04-3608c9e74bf1",
   "metadata": {},
   "outputs": [],
   "source": [
    "def reconstruct_giant(giant_list, training_graph):\n",
    "    G = nx.Graph()\n",
    "    for edge in training_graph.edges():\n",
    "        \n",
    "        for index in range(0, len(giant_list)):\n",
    "            for index2 in range(1, len(giant_list)):\n",
    "                if training_graph.has_edge(giant_list[index], giant_list[index2]):\n",
    "                    G.add_edge(giant_list[index], giant_list[index2])\n",
    "    return G"
   ]
  },
  {
   "cell_type": "code",
   "execution_count": 74,
   "id": "f7f9f2ce-ac9f-4c73-b862-a9ddd0e9ab91",
   "metadata": {},
   "outputs": [
    {
     "name": "stdout",
     "output_type": "stream",
     "text": [
      "Graph with 513 nodes and 782 edges\n"
     ]
    }
   ],
   "source": [
    "giant_cc = reconstruct_giant(list(giant), graph_training_model)\n",
    "print(giant_cc)"
   ]
  },
  {
   "cell_type": "code",
   "execution_count": 103,
   "id": "641a1366-5a65-4163-a9e8-390d184c553e",
   "metadata": {},
   "outputs": [
    {
     "name": "stdout",
     "output_type": "stream",
     "text": [
      "966\n"
     ]
    }
   ],
   "source": [
    "# calibrating step   ....\n",
    "\n",
    "# STEP1: -- compute dataset bigrams -------\n",
    "\n",
    "pubmed_bigrams_map_tst1 = compute_pubmed_bigrams(stopped_pubmed_training[100:200])\n",
    "print(len(pubmed_bigrams_map_tst1))\n",
    "calb1_edges = list(pubmed_bigrams_map_tst1.values())"
   ]
  },
  {
   "cell_type": "code",
   "execution_count": 61,
   "id": "751bb20b-6a07-452f-a795-083185d31c44",
   "metadata": {},
   "outputs": [
    {
     "name": "stdout",
     "output_type": "stream",
     "text": [
      "Before Computing:  Graph with 513 nodes and 782 edges\n"
     ]
    }
   ],
   "source": [
    "print('Before Computing: ', giant_cc)"
   ]
  },
  {
   "cell_type": "code",
   "execution_count": 100,
   "id": "0950208d-636b-4784-b0a0-c1b8f4561eae",
   "metadata": {},
   "outputs": [],
   "source": [
    " # STEP2: -- compute individual articles bigrams -------\n",
    "    \n",
    "def calibrate_using_pubmed_sets(ds_label, begin_index, end_index, training_graph):\n",
    "\n",
    "    no_added_edges_per_article = []\n",
    "    for abst in stopped_pubmed_training[begin_index:end_index]:\n",
    "\n",
    "        tokens = nltk.word_tokenize(abst)\n",
    "\n",
    "        # compute the bigrams\n",
    "        bigrams = list(nltk.bigrams(tokens))\n",
    "\n",
    "        # -------  check if the giant has the bigram components, add new edge \n",
    "        # -------          otherwise, don't add new edges\n",
    "        # -------  count how many nodes    \n",
    "        \n",
    "        count = 0\n",
    "        added_edges = []\n",
    "        for bigram in bigrams:\n",
    "\n",
    "            if training_graph.has_node(bigram[0]) and training_graph.has_node(bigram[1]):\n",
    "\n",
    "                if not training_graph.has_edge(bigram[0], bigram[1]):\n",
    "\n",
    "                    training_graph.add_edge(bigram[0], bigram[1])\n",
    "                    count += 1\n",
    "                    added_edges.append((bigram[0], bigram[1]))\n",
    "                    \n",
    "        no_added_edges_per_article.append(count)            \n",
    "        giant_cc.remove_edges_from(added_edges)\n",
    "    return no_added_edges_per_article"
   ]
  },
  {
   "cell_type": "code",
   "execution_count": 124,
   "id": "36f9d0b9-b7e6-449b-929e-61f638813d48",
   "metadata": {},
   "outputs": [],
   "source": [
    " # STEP2: -- compute individual articles bigrams -------\n",
    "    \n",
    "def compute_chatGPT_bigrams(stopped_articles, training_graph):\n",
    "\n",
    "    no_added_edges_per_chatGPT_article = []\n",
    "    for abst in stopped_articles:\n",
    "\n",
    "        tokens = nltk.word_tokenize(abst[0])\n",
    "\n",
    "        # compute the bigrams\n",
    "        bigrams = list(nltk.bigrams(tokens))\n",
    "\n",
    "        # -------  check if the giant has the bigram components, add new edge \n",
    "        # -------          otherwise, don't add new edges\n",
    "        # -------  count how many nodes    \n",
    "        \n",
    "        count = 0\n",
    "        added_edges = []\n",
    "        for bigram in bigrams:\n",
    "\n",
    "            if training_graph.has_node(bigram[0]) and training_graph.has_node(bigram[1]):\n",
    "\n",
    "                if not training_graph.has_edge(bigram[0], bigram[1]):\n",
    "\n",
    "                    training_graph.add_edge(bigram[0], bigram[1])\n",
    "                    count += 1\n",
    "                    added_edges.append((bigram[0], bigram[1]))\n",
    "                    \n",
    "        no_added_edges_per_chatGPT_article.append(count)            \n",
    "        giant_cc.remove_edges_from(added_edges)\n",
    "    return no_added_edges_per_chatGPT_article"
   ]
  },
  {
   "cell_type": "code",
   "execution_count": 125,
   "id": "052a58c5-5586-4183-8944-5427b4d466db",
   "metadata": {},
   "outputs": [],
   "source": [
    "scores = compute_chatGPT_bigrams(stopped_chatGPT_test, giant_cc)"
   ]
  },
  {
   "cell_type": "code",
   "execution_count": 127,
   "id": "7bc22ea9-2a5a-4708-8593-2136b4d706bd",
   "metadata": {},
   "outputs": [],
   "source": [
    "# scores"
   ]
  },
  {
   "cell_type": "code",
   "execution_count": 111,
   "id": "ede1e159-258e-4ab4-8cd2-8ffbe306759a",
   "metadata": {},
   "outputs": [],
   "source": [
    "# scores = compute_bigrams_per_chatGPT_article('ChatGPT', stopped_chatGPT_test, giant_cc)"
   ]
  },
  {
   "cell_type": "code",
   "execution_count": 128,
   "id": "bd014f6c-9a92-4e85-a279-78a8258b941f",
   "metadata": {},
   "outputs": [],
   "source": [
    "def calc_mean(tst_set_list):\n",
    "\n",
    "    # compute the average (with check for empty list)\n",
    "    if len(tst_set_list) == 0:\n",
    "        average = 0\n",
    "    else:\n",
    "        average = sum(tst_set_list) / len(tst_set_list)\n",
    "\n",
    "    # print the average\n",
    "    print(\"The average of the list is:\", average)\n",
    "    return average"
   ]
  },
  {
   "cell_type": "code",
   "execution_count": 129,
   "id": "df86f04a-4d5e-4535-b810-1cadc3bb0e57",
   "metadata": {},
   "outputs": [
    {
     "name": "stdout",
     "output_type": "stream",
     "text": [
      "The average of the list is: 24.84\n",
      "The average of the list is: 24.99\n",
      "The average of the list is: 21.5\n",
      "The average of the list is: 23.63\n",
      "The average of the list is: 22.36\n",
      "The average of the list is: 22.76\n",
      "The average of the list is: 23.4\n",
      "The average of the list is: 22.5\n",
      "The average of the list is: 23.59\n",
      "The average of the list is: 21.87\n"
     ]
    }
   ],
   "source": [
    "calb_folds_results = {}\n",
    "count = 0\n",
    "for index in range(100,1001):\n",
    "    label_prefix = 'TST'\n",
    "    if index % 100 == 0:\n",
    "        count += 1\n",
    "        tst_list = calibrate_using_pubmed_sets(label_prefix + str(count), index, index+100, giant_cc)\n",
    "        # print(tst_list)\n",
    "        tst_mean = calc_mean(tst_list)\n",
    "        calb_folds_results[label_prefix + str(count)] = sorted(tst_list) #, reverse=True\n",
    "        "
   ]
  },
  {
   "cell_type": "code",
   "execution_count": null,
   "id": "c0be0ac7-daff-49f4-affc-bd36ef75fd63",
   "metadata": {},
   "outputs": [],
   "source": []
  },
  {
   "cell_type": "code",
   "execution_count": 130,
   "id": "b9b4c312-7d47-46be-8f21-e7a0b939f1c1",
   "metadata": {},
   "outputs": [
    {
     "data": {
      "text/plain": [
       "11"
      ]
     },
     "execution_count": 130,
     "metadata": {},
     "output_type": "execute_result"
    }
   ],
   "source": [
    "calb_folds_results['ChatGPT'] = sorted(list(scores)) # , reverse=True\n",
    "\n",
    "len(calb_folds_results)"
   ]
  },
  {
   "cell_type": "code",
   "execution_count": 137,
   "id": "622eb15b-9a76-478a-901a-82bdbac3b725",
   "metadata": {},
   "outputs": [
    {
     "data": {
      "image/png": "[encoded data removed]",
      "text/plain": [
       "<Figure size 576x432 with 1 Axes>"
      ]
     },
     "metadata": {},
     "output_type": "display_data"
    }
   ],
   "source": [
    "import pandas as pd\n",
    "import seaborn as sns\n",
    "\n",
    "df = pd.DataFrame(calb_folds_results)\n",
    "\n",
    "df_transposed = df.transpose()\n",
    "\n",
    "\n",
    "plt.figure(figsize=(8, 6))\n",
    "\n",
    "\n",
    "\n",
    "# Set the style of the plot\n",
    "sns.set_style(\"darkgrid\")\n",
    "\n",
    "# Loop through each row of the DataFrame\n",
    "for index, row in df_transposed.iterrows():\n",
    "    # Create a line plot for the current row\n",
    "    sns.lineplot(data=row, marker='o', label=index)\n",
    "    \n",
    "# Set the title and axis labels\n",
    "plt.title('Line Plot of Bigram Scores by Each Fold')\n",
    "plt.xlabel('Bigram Score per Article')\n",
    "plt.ylabel('Score')\n",
    "\n",
    "# Show the legend and plot\n",
    "plt.legend(title='Row', loc='best')\n",
    "\n",
    "plt.savefig('chatGPT_bigram_scores_1000.png', dpi=1000)\n",
    "\n",
    "plt.show()"
   ]
  },
  {
   "cell_type": "code",
   "execution_count": 132,
   "id": "ed318152-06ef-4e6e-8a70-aba811af55ca",
   "metadata": {},
   "outputs": [],
   "source": [
    "def measure_chat_GPT_article(article_text, training_graph):\n",
    "    # chat_no_added_edges = []\n",
    "    # for abst in stopped_pubmed_training[begin_index:end_index]:\n",
    "\n",
    "    tokens = nltk.word_tokenize(article_text)\n",
    "\n",
    "    # compute the bigrams\n",
    "    bigrams = list(nltk.bigrams(tokens))\n",
    "\n",
    "    # -------  check if the giant has the bigram components, add new edge \n",
    "    # -------          otherwise, don't add new edges\n",
    "    # -------  count how many nodes    \n",
    "\n",
    "    count = 0\n",
    "    added_edges = []\n",
    "    for bigram in bigrams:\n",
    "\n",
    "        if training_graph.has_node(bigram[0]) and training_graph.has_node(bigram[1]):\n",
    "\n",
    "            if not training_graph.has_edge(bigram[0], bigram[1]):\n",
    "\n",
    "                training_graph.add_edge(bigram[0], bigram[1])\n",
    "                count += 1\n",
    "                added_edges.append((bigram[0], bigram[1]))\n",
    "\n",
    "        giant_cc.remove_edges_from(added_edges)\n",
    "        \n",
    "    return added_edges    "
   ]
  },
  {
   "cell_type": "code",
   "execution_count": 139,
   "id": "dd9ff793-97b0-40b6-91e2-2926e4e2ba86",
   "metadata": {},
   "outputs": [
    {
     "name": "stdout",
     "output_type": "stream",
     "text": [
      "Article:  1 , added edges:  0 NEGATIVE\n",
      "Article:  2 , added edges:  4 NEGATIVE\n",
      "Article:  3 , added edges:  2 NEGATIVE\n",
      "Article:  4 , added edges:  4 NEGATIVE\n",
      "Article:  5 , added edges:  2 NEGATIVE\n",
      "Article:  6 , added edges:  4 NEGATIVE\n",
      "Article:  7 , added edges:  7 NEGATIVE\n",
      "Article:  8 , added edges:  10 NEGATIVE\n",
      "Article:  9 , added edges:  13 NEGATIVE\n",
      "Article:  10 , added edges:  10 NEGATIVE\n",
      "Article:  11 , added edges:  10 NEGATIVE\n",
      "Article:  12 , added edges:  4 NEGATIVE\n",
      "Article:  13 , added edges:  4 NEGATIVE\n",
      "Article:  14 , added edges:  14 NEGATIVE\n",
      "Article:  15 , added edges:  11 NEGATIVE\n",
      "Article:  16 , added edges:  15 NEGATIVE\n",
      "Article:  17 , added edges:  11 NEGATIVE\n",
      "Article:  18 , added edges:  15 NEGATIVE\n",
      "Article:  19 , added edges:  10 NEGATIVE\n",
      "Article:  20 , added edges:  10 NEGATIVE\n",
      "Article:  21 , added edges:  7 NEGATIVE\n",
      "Article:  22 , added edges:  5 NEGATIVE\n",
      "Article:  23 , added edges:  11 NEGATIVE\n",
      "Article:  24 , added edges:  11 NEGATIVE\n",
      "Article:  25 , added edges:  14 NEGATIVE\n",
      "Article:  26 , added edges:  14 NEGATIVE\n",
      "Article:  27 , added edges:  9 NEGATIVE\n",
      "Article:  28 , added edges:  1 NEGATIVE\n",
      "Article:  29 , added edges:  2 NEGATIVE\n",
      "Article:  30 , added edges:  6 NEGATIVE\n",
      "Article:  31 , added edges:  9 NEGATIVE\n",
      "Article:  32 , added edges:  9 NEGATIVE\n",
      "Article:  33 , added edges:  13 NEGATIVE\n",
      "Article:  34 , added edges:  7 NEGATIVE\n",
      "Article:  35 , added edges:  3 NEGATIVE\n",
      "Article:  36 , added edges:  2 NEGATIVE\n",
      "Article:  37 , added edges:  10 NEGATIVE\n",
      "Article:  38 , added edges:  8 NEGATIVE\n",
      "Article:  39 , added edges:  3 NEGATIVE\n",
      "Article:  40 , added edges:  7 NEGATIVE\n",
      "Article:  41 , added edges:  5 NEGATIVE\n",
      "Article:  42 , added edges:  8 NEGATIVE\n",
      "Article:  43 , added edges:  7 NEGATIVE\n",
      "Article:  44 , added edges:  17 NEGATIVE\n",
      "Article:  45 , added edges:  6 NEGATIVE\n",
      "Article:  46 , added edges:  10 NEGATIVE\n",
      "Article:  47 , added edges:  6 NEGATIVE\n",
      "Article:  48 , added edges:  11 NEGATIVE\n",
      "Article:  49 , added edges:  8 NEGATIVE\n",
      "Article:  50 , added edges:  15 NEGATIVE\n",
      "Article:  51 , added edges:  8 NEGATIVE\n",
      "Article:  52 , added edges:  8 NEGATIVE\n",
      "Article:  53 , added edges:  12 NEGATIVE\n",
      "Article:  54 , added edges:  9 NEGATIVE\n",
      "Article:  55 , added edges:  12 NEGATIVE\n",
      "Article:  56 , added edges:  27 NEGATIVE\n",
      "Article:  57 , added edges:  29 NEGATIVE\n",
      "Article:  58 , added edges:  24 POSITIVE\n",
      "Article:  59 , added edges:  9 NEGATIVE\n",
      "Article:  60 , added edges:  23 POSITIVE\n",
      "Article:  61 , added edges:  19 NEGATIVE\n",
      "Article:  62 , added edges:  9 NEGATIVE\n",
      "Article:  63 , added edges:  32 NEGATIVE\n",
      "Article:  64 , added edges:  17 NEGATIVE\n",
      "Article:  65 , added edges:  25 NEGATIVE\n",
      "Article:  66 , added edges:  7 NEGATIVE\n",
      "Article:  67 , added edges:  12 NEGATIVE\n",
      "Article:  68 , added edges:  11 NEGATIVE\n",
      "Article:  69 , added edges:  8 NEGATIVE\n",
      "Article:  70 , added edges:  7 NEGATIVE\n",
      "Article:  71 , added edges:  5 NEGATIVE\n",
      "Article:  72 , added edges:  6 NEGATIVE\n",
      "Article:  73 , added edges:  8 NEGATIVE\n",
      "Article:  74 , added edges:  6 NEGATIVE\n",
      "Article:  75 , added edges:  13 NEGATIVE\n",
      "Article:  76 , added edges:  17 NEGATIVE\n",
      "Article:  77 , added edges:  20 NEGATIVE\n",
      "Article:  78 , added edges:  11 NEGATIVE\n",
      "Article:  79 , added edges:  13 NEGATIVE\n",
      "Article:  80 , added edges:  7 NEGATIVE\n",
      "Article:  81 , added edges:  6 NEGATIVE\n",
      "Article:  82 , added edges:  13 NEGATIVE\n",
      "Article:  83 , added edges:  7 NEGATIVE\n",
      "Article:  84 , added edges:  12 NEGATIVE\n",
      "Article:  85 , added edges:  9 NEGATIVE\n",
      "Article:  86 , added edges:  6 NEGATIVE\n",
      "Article:  87 , added edges:  14 NEGATIVE\n",
      "Article:  88 , added edges:  10 NEGATIVE\n",
      "Article:  89 , added edges:  16 NEGATIVE\n",
      "Article:  90 , added edges:  9 NEGATIVE\n",
      "Article:  91 , added edges:  10 NEGATIVE\n",
      "Article:  92 , added edges:  7 NEGATIVE\n",
      "Article:  93 , added edges:  21 NEGATIVE\n",
      "Article:  94 , added edges:  14 NEGATIVE\n",
      "Article:  95 , added edges:  27 NEGATIVE\n",
      "Article:  96 , added edges:  18 NEGATIVE\n",
      "Article:  97 , added edges:  18 NEGATIVE\n",
      "Article:  98 , added edges:  19 NEGATIVE\n",
      "Article:  99 , added edges:  19 NEGATIVE\n",
      "Article:  100 , added edges:  28 NEGATIVE\n",
      "\n",
      "\n",
      "-------------------------------------\n",
      "\n",
      "NeoNet Classifier TRUE POSITIVE :   0.02\n",
      "NeoNet Classifier FALSE NEGATIVE:   0.98\n",
      "\n",
      "\n",
      "-------------------------------------\n",
      "\n"
     ]
    }
   ],
   "source": [
    "## classify ChatGPT articles one at a time\n",
    "\n",
    "scores = []\n",
    "lower_bound = 21.96\n",
    "upper_bound = 24.93\n",
    "\n",
    "counter = 0\n",
    "positive = 0\n",
    "negative = 0\n",
    "\n",
    "for fake_article in stopped_chatGPT_test[0:100]:\n",
    "    edges_added = measure_chat_GPT_article(fake_article[0], giant_cc) \n",
    "    counter += 1\n",
    "    if (len(edges_added) >= lower_bound) and  (len(edges_added) <= upper_bound):\n",
    "        positive += 1\n",
    "        print('Article: ', counter, ', added edges: ', len(edges_added), 'POSITIVE')\n",
    "    else:\n",
    "        negative += 1\n",
    "        print('Article: ', counter, ', added edges: ', len(edges_added), 'NEGATIVE')   \n",
    "        \n",
    "    scores.append(len(edges_added))\n",
    "\n",
    "print('\\n\\n-------------------------------------\\n')    \n",
    "print('NeoNet Classifier TRUE POSITIVE :  ', format(positive/100, '.2f'))\n",
    "print('NeoNet Classifier FALSE NEGATIVE:  ', format(negative/100, '.2f'))\n",
    "print('\\n\\n-------------------------------------\\n')      \n"
   ]
  },
  {
   "cell_type": "code",
   "execution_count": 212,
   "id": "f919d1f5-7247-4c23-948f-385d02790497",
   "metadata": {},
   "outputs": [],
   "source": []
  },
  {
   "cell_type": "code",
   "execution_count": 225,
   "id": "a60b75bc-5b4d-4327-98a0-9de4a2aea429",
   "metadata": {},
   "outputs": [],
   "source": [
    "\n",
    "# # Add a new row to the transposed DataFrame\n",
    "# df_article_bigrams.loc['ChatGPT'] = scores\n"
   ]
  },
  {
   "cell_type": "code",
   "execution_count": null,
   "id": "158e4cc1-4114-4b73-9afc-9c46c9c533de",
   "metadata": {},
   "outputs": [],
   "source": []
  },
  {
   "cell_type": "code",
   "execution_count": null,
   "id": "948fd117-8ad9-4f68-8ab7-13d9727aee6d",
   "metadata": {},
   "outputs": [],
   "source": []
  },
  {
   "cell_type": "code",
   "execution_count": null,
   "id": "9c956a08-52d4-4692-9630-1973bbb32510",
   "metadata": {},
   "outputs": [],
   "source": []
  },
  {
   "cell_type": "code",
   "execution_count": 311,
   "id": "2c02096f-991d-4fc5-9a08-33e1eb09d6da",
   "metadata": {},
   "outputs": [
    {
     "data": {
      "text/plain": [
       "516"
      ]
     },
     "execution_count": 311,
     "metadata": {},
     "output_type": "execute_result"
    }
   ],
   "source": []
  }
 ],
 "metadata": {
  "kernelspec": {
   "display_name": "Python 3 (ipykernel)",
   "language": "python",
   "name": "python3"
  },
  "language_info": {
   "codemirror_mode": {
    "name": "ipython",
    "version": 3
   },
   "file_extension": ".py",
   "mimetype": "text/x-python",
   "name": "python",
   "nbconvert_exporter": "python",
   "pygments_lexer": "ipython3",
   "version": "3.9.12"
  }
 },
 "nbformat": 4,
 "nbformat_minor": 5
}
